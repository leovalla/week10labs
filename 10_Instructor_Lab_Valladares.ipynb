{
 "cells": [
  {
   "cell_type": "markdown",
   "id": "4bdb59e4-863d-40dc-b8df-3e96bea3cc1d",
   "metadata": {},
   "source": [
    "# Week 10 Instructor lab\n",
    "\n",
    "**Course Information:**  Graduate Introduction to Python, BGEN 632\n",
    "\n",
    "**Notebook Author Name:** Leo Valladares\n",
    "\n",
    "**Submission Date:**  2025/05/06\n",
    "\n",
    "**Description:** This notebook perform Week 10 instructor-led activities.\n",
    "\n",
    "### Import Modules"
   ]
  },
  {
   "cell_type": "code",
   "execution_count": 2,
   "id": "fee226db-1293-4eab-bc0b-b3a7af9dd805",
   "metadata": {},
   "outputs": [],
   "source": [
    "# load modules\n",
    "import os\n",
    "import numpy as np\n",
    "import pandas as pd\n",
    "\n",
    "# general plotting\n",
    "import matplotlib.pyplot as plt\n",
    "\n",
    "# data preprocessing (scaling and label encoding)\n",
    "from sklearn import preprocessing\n",
    "\n",
    "# pca module\n",
    "from sklearn.decomposition import PCA as pca\n",
    "\n",
    "# clustering modules\n",
    "import sklearn.metrics as metcs\n",
    "from scipy.cluster import hierarchy as hier\n",
    "from sklearn import cluster as cls\n",
    "\n",
    "# tree modules\n",
    "from sklearn.feature_extraction.image import grid_to_graph\n",
    "from sklearn import tree\n",
    "\n",
    "os.environ[\"OMP_NUM_THREADS\"] = \"1\""
   ]
  },
  {
   "cell_type": "markdown",
   "id": "30a7278f-ce73-4a15-a15c-a2435ff799d3",
   "metadata": {},
   "source": [
    "### Set Working Directory\n"
   ]
  },
  {
   "cell_type": "code",
   "execution_count": 3,
   "id": "c4a808dc-9392-4a9f-b828-0f5fd37075f8",
   "metadata": {},
   "outputs": [],
   "source": [
    "os.chdir(\"C:/Users/leova/OneDrive/BGEN 632/week10labs/data\")"
   ]
  },
  {
   "cell_type": "markdown",
   "id": "db71a289-29e2-4521-bfda-c69011b31695",
   "metadata": {},
   "source": [
    "### Access Data"
   ]
  },
  {
   "cell_type": "code",
   "execution_count": 4,
   "id": "46693da5-cbb5-4239-a6f3-c8b4a7c978fc",
   "metadata": {},
   "outputs": [
    {
     "name": "stdout",
     "output_type": "stream",
     "text": [
      "<class 'pandas.core.frame.DataFrame'>\n",
      "RangeIndex: 61 entries, 0 to 60\n",
      "Data columns (total 23 columns):\n",
      " #   Column         Non-Null Count  Dtype  \n",
      "---  ------         --------------  -----  \n",
      " 0   HospitalID     61 non-null     int64  \n",
      " 1   Name           61 non-null     object \n",
      " 2   Zip            61 non-null     object \n",
      " 3   Website        61 non-null     object \n",
      " 4   TypeControl    61 non-null     object \n",
      " 5   Teaching       61 non-null     object \n",
      " 6   DonorType      61 non-null     object \n",
      " 7   NoFTE          61 non-null     float64\n",
      " 8   NetPatRev      61 non-null     float64\n",
      " 9   InOperExp      61 non-null     float64\n",
      " 10  OutOperExp     61 non-null     float64\n",
      " 11  OperRev        61 non-null     int64  \n",
      " 12  OperInc        61 non-null     int64  \n",
      " 13  AvlBeds        61 non-null     int64  \n",
      " 14  Work_ID        61 non-null     int64  \n",
      " 15  LastName       61 non-null     object \n",
      " 16  FirstName      61 non-null     object \n",
      " 17  Gender         61 non-null     object \n",
      " 18  PositionID     61 non-null     int64  \n",
      " 19  PositionTitle  61 non-null     object \n",
      " 20  Compensation   61 non-null     int64  \n",
      " 21  MaxTerm        61 non-null     int64  \n",
      " 22  StartDate      61 non-null     object \n",
      "dtypes: float64(4), int64(8), object(11)\n",
      "memory usage: 11.1+ KB\n"
     ]
    }
   ],
   "source": [
    "# Open the file within Python\n",
    "hospital_data = pd.read_csv(\"calihospital.txt\", sep=\"\\t\")\n",
    "hospital_data.info()"
   ]
  },
  {
   "cell_type": "markdown",
   "id": "9246b3db",
   "metadata": {},
   "source": [
    "## Principal Component Analysis (PCA) in Python"
   ]
  },
  {
   "cell_type": "code",
   "execution_count": 5,
   "id": "afd09188",
   "metadata": {},
   "outputs": [
    {
     "data": {
      "text/plain": [
       "array([5.72134563e+00, 1.07657967e+00, 1.91383827e-01, 9.31699632e-02,\n",
       "       3.29143500e-02, 1.27322677e-03, 5.91421330e-22])"
      ]
     },
     "execution_count": 5,
     "metadata": {},
     "output_type": "execute_result"
    }
   ],
   "source": [
    "# Select Hspital numeric columns\n",
    "pca_data = hospital_data[['NoFTE', 'NetPatRev', 'InOperExp', 'OutOperExp', 'OperRev', 'OperInc', 'AvlBeds']]\n",
    "\n",
    "# scale data using standardization\n",
    "scaler = preprocessing.StandardScaler()\n",
    "scaled_data = scaler.fit_transform(pca_data)\n",
    "\n",
    "# run PCA with scaled data\n",
    "pca_result = pca(n_components=7).fit(scaled_data)\n",
    "\n",
    "# obtain eigenvalues - focus on the output\n",
    "pca_result.explained_variance_\n"
   ]
  },
  {
   "cell_type": "markdown",
   "id": "8b56a2f4",
   "metadata": {},
   "source": [
    "Based on the eigenvalues, two columns remaian since there are only two eigenvalues above 1.0 "
   ]
  },
  {
   "cell_type": "code",
   "execution_count": 6,
   "id": "19c03edc",
   "metadata": {},
   "outputs": [
    {
     "data": {
      "image/png": "[encoded data removed]",
      "text/plain": [
       "<Figure size 700x500 with 1 Axes>"
      ]
     },
     "metadata": {},
     "output_type": "display_data"
    }
   ],
   "source": [
    "# generate scree plot - focus on the output\n",
    "plt.figure(figsize=(7,5))\n",
    "plt.plot([1,2,3,4,5,6,7], pca_result.explained_variance_ratio_, '-o')\n",
    "plt.ylabel('Proportion of Variance Explained') \n",
    "plt.xlabel('Principal Component') \n",
    "plt.xlim(0.75,4.25) \n",
    "plt.ylim(0,1.05) \n",
    "plt.xticks([1,2,3,4,5,6,7])\n",
    "\n",
    "plt.show()\n"
   ]
  },
  {
   "cell_type": "markdown",
   "id": "cd8f9b93",
   "metadata": {},
   "source": [
    "**Based on the scree plot, how many variables should you keep? Why?**\n",
    "\n",
    "Based on the scree plot, only two variables should be kept. The chart levels off starting with the third component, so only the first two components should be retained.\n",
    "\n",
    "## Clustering in Python"
   ]
  },
  {
   "cell_type": "code",
   "execution_count": 7,
   "id": "46a22f9d",
   "metadata": {},
   "outputs": [],
   "source": [
    "# Select Hospital numeric columns\n",
    "clust_data = hospital_data[['NoFTE', 'NetPatRev', 'InOperExp', 'OutOperExp', 'OperRev', 'OperInc', 'AvlBeds',\n",
    "                            'Teaching', 'TypeControl', 'DonorType']]\n",
    "\n"
   ]
  },
  {
   "cell_type": "code",
   "execution_count": 8,
   "id": "bbbc3b6a",
   "metadata": {},
   "outputs": [
    {
     "name": "stdout",
     "output_type": "stream",
     "text": [
      "['Small/Rural' 'Teaching']\n",
      "['District' 'Non Profit' 'Investor' 'City/County']\n",
      "['Charity' 'Alumni']\n"
     ]
    }
   ],
   "source": [
    "# inspect unique values for categorical variables\n",
    "print(hospital_data['Teaching'].unique())\n",
    "print(hospital_data['TypeControl'].unique())\n",
    "print(hospital_data['DonorType'].unique())"
   ]
  },
  {
   "cell_type": "markdown",
   "id": "7939594a",
   "metadata": {},
   "source": [
    "\n",
    "### Clustering Teaching"
   ]
  },
  {
   "cell_type": "code",
   "execution_count": 9,
   "id": "7cc815c4",
   "metadata": {},
   "outputs": [
    {
     "name": "stdout",
     "output_type": "stream",
     "text": [
      "[[44  0]\n",
      " [ 8  9]]\n"
     ]
    },
    {
     "name": "stderr",
     "output_type": "stream",
     "text": [
      "c:\\Users\\leova\\anaconda3\\Lib\\site-packages\\sklearn\\cluster\\_kmeans.py:1429: UserWarning: KMeans is known to have a memory leak on Windows with MKL, when there are less chunks than available threads. You can avoid it by setting the environment variable OMP_NUM_THREADS=1.\n",
      "  warnings.warn(\n",
      "C:\\Users\\leova\\AppData\\Local\\Temp\\ipykernel_31900\\2343353450.py:10: SettingWithCopyWarning: \n",
      "A value is trying to be set on a copy of a slice from a DataFrame.\n",
      "Try using .loc[row_indexer,col_indexer] = value instead\n",
      "\n",
      "See the caveats in the documentation: https://pandas.pydata.org/pandas-docs/stable/user_guide/indexing.html#returning-a-view-versus-a-copy\n",
      "  clust_data['Teaching'] = le.fit_transform(clust_data['Teaching'])\n"
     ]
    }
   ],
   "source": [
    "# create a label encoder object\n",
    "le = preprocessing.LabelEncoder()\n",
    "\n",
    "# Teaching clustering, We use k = 2 since teaching has 2 unique values\n",
    "km1 = cls.KMeans(n_clusters=2).fit(pca_data)\n",
    "\n",
    "# assigned clusters\n",
    "km1.labels_\n",
    "\n",
    "clust_data['Teaching'] = le.fit_transform(clust_data['Teaching'])\n",
    "\n",
    "cm1 = metcs.confusion_matrix(clust_data.Teaching, km1.labels_)\n",
    "print(cm1)"
   ]
  },
  {
   "cell_type": "markdown",
   "id": "675234b6",
   "metadata": {},
   "source": [
    "Based on the previous confusion matrix, one of the classes has all true positive predictions. In contrast, the second class has 8 false negatives and 9 true positives.\n",
    "\n",
    "\n",
    "### Clustering TypeControl"
   ]
  },
  {
   "cell_type": "code",
   "execution_count": 10,
   "id": "c82bb6a6",
   "metadata": {},
   "outputs": [
    {
     "name": "stdout",
     "output_type": "stream",
     "text": [
      "[[ 2  0  3  2]\n",
      " [14  0  0  0]\n",
      " [ 3  0  0  0]\n",
      " [27  5  5  0]]\n"
     ]
    },
    {
     "name": "stderr",
     "output_type": "stream",
     "text": [
      "c:\\Users\\leova\\anaconda3\\Lib\\site-packages\\sklearn\\cluster\\_kmeans.py:1429: UserWarning: KMeans is known to have a memory leak on Windows with MKL, when there are less chunks than available threads. You can avoid it by setting the environment variable OMP_NUM_THREADS=1.\n",
      "  warnings.warn(\n",
      "C:\\Users\\leova\\AppData\\Local\\Temp\\ipykernel_31900\\380777398.py:9: SettingWithCopyWarning: \n",
      "A value is trying to be set on a copy of a slice from a DataFrame.\n",
      "Try using .loc[row_indexer,col_indexer] = value instead\n",
      "\n",
      "See the caveats in the documentation: https://pandas.pydata.org/pandas-docs/stable/user_guide/indexing.html#returning-a-view-versus-a-copy\n",
      "  clust_data['TypeControl'] = le.fit_transform(clust_data['TypeControl'])\n"
     ]
    }
   ],
   "source": [
    "clust_data.TypeControl.unique()\n",
    "\n",
    "# TypeControl clustering, We use k = 4 since TypeControl has 4 unique values\n",
    "km2 = cls.KMeans(n_clusters=4).fit(pca_data)\n",
    "\n",
    "# assigned clusters\n",
    "km2.labels_\n",
    "\n",
    "clust_data['TypeControl'] = le.fit_transform(clust_data['TypeControl'])\n",
    "\n",
    "cm2 = metcs.confusion_matrix(clust_data.TypeControl, km2.labels_)\n",
    "print(cm2)"
   ]
  },
  {
   "cell_type": "markdown",
   "id": "61e05a92",
   "metadata": {},
   "source": [
    "The second confusion matrix shows many misclassifications. For this reason, we can conclude that the clustering did not create clear groups.\n",
    "\n",
    "\n",
    "#### Clustering DonorType"
   ]
  },
  {
   "cell_type": "code",
   "execution_count": 11,
   "id": "fe205683",
   "metadata": {},
   "outputs": [
    {
     "name": "stdout",
     "output_type": "stream",
     "text": [
      "[[ 8  9]\n",
      " [44  0]]\n"
     ]
    },
    {
     "name": "stderr",
     "output_type": "stream",
     "text": [
      "c:\\Users\\leova\\anaconda3\\Lib\\site-packages\\sklearn\\cluster\\_kmeans.py:1429: UserWarning: KMeans is known to have a memory leak on Windows with MKL, when there are less chunks than available threads. You can avoid it by setting the environment variable OMP_NUM_THREADS=1.\n",
      "  warnings.warn(\n",
      "C:\\Users\\leova\\AppData\\Local\\Temp\\ipykernel_31900\\2302519874.py:10: SettingWithCopyWarning: \n",
      "A value is trying to be set on a copy of a slice from a DataFrame.\n",
      "Try using .loc[row_indexer,col_indexer] = value instead\n",
      "\n",
      "See the caveats in the documentation: https://pandas.pydata.org/pandas-docs/stable/user_guide/indexing.html#returning-a-view-versus-a-copy\n",
      "  clust_data['DonorType'] = le.fit_transform(clust_data['DonorType'])\n"
     ]
    }
   ],
   "source": [
    "clust_data.DonorType.unique()\n",
    "\n",
    "# DonorType clustering, We use k = 2 since DonorType has 2 unique values\n",
    "km3 = cls.KMeans(n_clusters=2).fit(pca_data)\n",
    "\n",
    "# assigned clusters\n",
    "km3.labels_\n",
    "\n",
    "\n",
    "clust_data['DonorType'] = le.fit_transform(clust_data['DonorType'])\n",
    "\n",
    "cm3 = metcs.confusion_matrix(clust_data.DonorType, km3.labels_)\n",
    "print(cm3)\n"
   ]
  },
  {
   "cell_type": "markdown",
   "id": "efd99a43",
   "metadata": {},
   "source": [
    "The last matrix performs as well as the first one. One of the classes has 44 true positives, and the other shows the same performance as in the first model.\n",
    "\n",
    "Based on these results, we can use either the first or the third model, as both should yield similar outcomes."
   ]
  },
  {
   "cell_type": "code",
   "execution_count": 12,
   "id": "fc321f01",
   "metadata": {},
   "outputs": [
    {
     "data": {
      "image/png": "[encoded data removed]",
      "text/plain": [
       "<Figure size 480x480 with 1 Axes>"
      ]
     },
     "metadata": {},
     "output_type": "display_data"
    }
   ],
   "source": [
    "# Plot a color-based chart\n",
    "plt.matshow(cm1)\n",
    "plt.title('Confusion Matrix')\n",
    "plt.ylabel('Actual Value')\n",
    "plt.xlabel('Predicted Value')\n",
    "plt.xticks([0,1], ['Small/Rural','Teaching'])\n",
    "\n",
    "plt.show()"
   ]
  }
 ],
 "metadata": {
  "kernelspec": {
   "display_name": "base",
   "language": "python",
   "name": "python3"
  },
  "language_info": {
   "codemirror_mode": {
    "name": "ipython",
    "version": 3
   },
   "file_extension": ".py",
   "mimetype": "text/x-python",
   "name": "python",
   "nbconvert_exporter": "python",
   "pygments_lexer": "ipython3",
   "version": "3.12.7"
  }
 },
 "nbformat": 4,
 "nbformat_minor": 5
}
